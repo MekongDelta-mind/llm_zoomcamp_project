{
 "cells": [
  {
   "cell_type": "code",
   "execution_count": 1,
   "metadata": {},
   "outputs": [],
   "source": [
    "import pandas as pd"
   ]
  },
  {
   "cell_type": "code",
   "execution_count": 2,
   "metadata": {},
   "outputs": [],
   "source": [
    "data_folder = \"../data/raw/\""
   ]
  },
  {
   "cell_type": "code",
   "execution_count": 3,
   "metadata": {},
   "outputs": [],
   "source": [
    "file_name = 'Rough exploration - actual_data.csv'"
   ]
  },
  {
   "cell_type": "code",
   "execution_count": 4,
   "metadata": {},
   "outputs": [
    {
     "data": {
      "text/plain": [
       "(14, 5)"
      ]
     },
     "execution_count": 4,
     "metadata": {},
     "output_type": "execute_result"
    }
   ],
   "source": [
    "df = pd.read_csv(data_folder+file_name)\n",
    "df.shape"
   ]
  },
  {
   "cell_type": "code",
   "execution_count": 5,
   "metadata": {},
   "outputs": [
    {
     "data": {
      "text/html": [
       "<div>\n",
       "<style scoped>\n",
       "    .dataframe tbody tr th:only-of-type {\n",
       "        vertical-align: middle;\n",
       "    }\n",
       "\n",
       "    .dataframe tbody tr th {\n",
       "        vertical-align: top;\n",
       "    }\n",
       "\n",
       "    .dataframe thead th {\n",
       "        text-align: right;\n",
       "    }\n",
       "</style>\n",
       "<table border=\"1\" class=\"dataframe\">\n",
       "  <thead>\n",
       "    <tr style=\"text-align: right;\">\n",
       "      <th></th>\n",
       "      <th>user_type</th>\n",
       "      <th>sub_section</th>\n",
       "      <th>sub_sub_section</th>\n",
       "      <th>question</th>\n",
       "      <th>answer</th>\n",
       "    </tr>\n",
       "  </thead>\n",
       "  <tbody>\n",
       "    <tr>\n",
       "      <th>0</th>\n",
       "      <td>buyers</td>\n",
       "      <td>top_queries</td>\n",
       "      <td>general</td>\n",
       "      <td>I forgot my password to access GeM portal, how...</td>\n",
       "      <td>Please follow following steps to reset your pa...</td>\n",
       "    </tr>\n",
       "    <tr>\n",
       "      <th>1</th>\n",
       "      <td>buyers</td>\n",
       "      <td>top_queries</td>\n",
       "      <td>general</td>\n",
       "      <td>I am a new buyer and wish to learn more about ...</td>\n",
       "      <td>Detailed instructions are available in the for...</td>\n",
       "    </tr>\n",
       "    <tr>\n",
       "      <th>2</th>\n",
       "      <td>buyers</td>\n",
       "      <td>top_queries</td>\n",
       "      <td>general</td>\n",
       "      <td>What could be the reason for variation in pric...</td>\n",
       "      <td>The variation in retail price and GeM Price of...</td>\n",
       "    </tr>\n",
       "    <tr>\n",
       "      <th>3</th>\n",
       "      <td>buyers</td>\n",
       "      <td>top_queries</td>\n",
       "      <td>general</td>\n",
       "      <td>Why am I unable to see the seller's name in th...</td>\n",
       "      <td>In order to avoid biases in the selection of s...</td>\n",
       "    </tr>\n",
       "    <tr>\n",
       "      <th>4</th>\n",
       "      <td>buyers</td>\n",
       "      <td>top_queries</td>\n",
       "      <td>general</td>\n",
       "      <td>Is PAC option available for purchase through O...</td>\n",
       "      <td>Yes, PAC purchase can be done from OEMs and Re...</td>\n",
       "    </tr>\n",
       "  </tbody>\n",
       "</table>\n",
       "</div>"
      ],
      "text/plain": [
       "  user_type  sub_section sub_sub_section  \\\n",
       "0    buyers  top_queries         general   \n",
       "1    buyers  top_queries         general   \n",
       "2    buyers  top_queries         general   \n",
       "3    buyers  top_queries         general   \n",
       "4    buyers  top_queries         general   \n",
       "\n",
       "                                            question  \\\n",
       "0  I forgot my password to access GeM portal, how...   \n",
       "1  I am a new buyer and wish to learn more about ...   \n",
       "2  What could be the reason for variation in pric...   \n",
       "3  Why am I unable to see the seller's name in th...   \n",
       "4  Is PAC option available for purchase through O...   \n",
       "\n",
       "                                              answer  \n",
       "0  Please follow following steps to reset your pa...  \n",
       "1  Detailed instructions are available in the for...  \n",
       "2  The variation in retail price and GeM Price of...  \n",
       "3  In order to avoid biases in the selection of s...  \n",
       "4  Yes, PAC purchase can be done from OEMs and Re...  "
      ]
     },
     "execution_count": 5,
     "metadata": {},
     "output_type": "execute_result"
    }
   ],
   "source": [
    "df.head()"
   ]
  },
  {
   "cell_type": "code",
   "execution_count": 6,
   "metadata": {},
   "outputs": [
    {
     "data": {
      "text/html": [
       "<div>\n",
       "<style scoped>\n",
       "    .dataframe tbody tr th:only-of-type {\n",
       "        vertical-align: middle;\n",
       "    }\n",
       "\n",
       "    .dataframe tbody tr th {\n",
       "        vertical-align: top;\n",
       "    }\n",
       "\n",
       "    .dataframe thead th {\n",
       "        text-align: right;\n",
       "    }\n",
       "</style>\n",
       "<table border=\"1\" class=\"dataframe\">\n",
       "  <thead>\n",
       "    <tr style=\"text-align: right;\">\n",
       "      <th></th>\n",
       "      <th>0</th>\n",
       "      <th>1</th>\n",
       "      <th>2</th>\n",
       "      <th>3</th>\n",
       "      <th>4</th>\n",
       "    </tr>\n",
       "  </thead>\n",
       "  <tbody>\n",
       "    <tr>\n",
       "      <th>user_type</th>\n",
       "      <td>buyers</td>\n",
       "      <td>buyers</td>\n",
       "      <td>buyers</td>\n",
       "      <td>buyers</td>\n",
       "      <td>buyers</td>\n",
       "    </tr>\n",
       "    <tr>\n",
       "      <th>sub_section</th>\n",
       "      <td>top_queries</td>\n",
       "      <td>top_queries</td>\n",
       "      <td>top_queries</td>\n",
       "      <td>top_queries</td>\n",
       "      <td>top_queries</td>\n",
       "    </tr>\n",
       "    <tr>\n",
       "      <th>sub_sub_section</th>\n",
       "      <td>general</td>\n",
       "      <td>general</td>\n",
       "      <td>general</td>\n",
       "      <td>general</td>\n",
       "      <td>general</td>\n",
       "    </tr>\n",
       "    <tr>\n",
       "      <th>question</th>\n",
       "      <td>I forgot my password to access GeM portal, how...</td>\n",
       "      <td>I am a new buyer and wish to learn more about ...</td>\n",
       "      <td>What could be the reason for variation in pric...</td>\n",
       "      <td>Why am I unable to see the seller's name in th...</td>\n",
       "      <td>Is PAC option available for purchase through O...</td>\n",
       "    </tr>\n",
       "    <tr>\n",
       "      <th>answer</th>\n",
       "      <td>Please follow following steps to reset your pa...</td>\n",
       "      <td>Detailed instructions are available in the for...</td>\n",
       "      <td>The variation in retail price and GeM Price of...</td>\n",
       "      <td>In order to avoid biases in the selection of s...</td>\n",
       "      <td>Yes, PAC purchase can be done from OEMs and Re...</td>\n",
       "    </tr>\n",
       "  </tbody>\n",
       "</table>\n",
       "</div>"
      ],
      "text/plain": [
       "                                                                 0  \\\n",
       "user_type                                                   buyers   \n",
       "sub_section                                            top_queries   \n",
       "sub_sub_section                                            general   \n",
       "question         I forgot my password to access GeM portal, how...   \n",
       "answer           Please follow following steps to reset your pa...   \n",
       "\n",
       "                                                                 1  \\\n",
       "user_type                                                   buyers   \n",
       "sub_section                                            top_queries   \n",
       "sub_sub_section                                            general   \n",
       "question         I am a new buyer and wish to learn more about ...   \n",
       "answer           Detailed instructions are available in the for...   \n",
       "\n",
       "                                                                 2  \\\n",
       "user_type                                                   buyers   \n",
       "sub_section                                            top_queries   \n",
       "sub_sub_section                                            general   \n",
       "question         What could be the reason for variation in pric...   \n",
       "answer           The variation in retail price and GeM Price of...   \n",
       "\n",
       "                                                                 3  \\\n",
       "user_type                                                   buyers   \n",
       "sub_section                                            top_queries   \n",
       "sub_sub_section                                            general   \n",
       "question         Why am I unable to see the seller's name in th...   \n",
       "answer           In order to avoid biases in the selection of s...   \n",
       "\n",
       "                                                                 4  \n",
       "user_type                                                   buyers  \n",
       "sub_section                                            top_queries  \n",
       "sub_sub_section                                            general  \n",
       "question         Is PAC option available for purchase through O...  \n",
       "answer           Yes, PAC purchase can be done from OEMs and Re...  "
      ]
     },
     "execution_count": 6,
     "metadata": {},
     "output_type": "execute_result"
    }
   ],
   "source": [
    "df.head().T"
   ]
  },
  {
   "cell_type": "code",
   "execution_count": 7,
   "metadata": {},
   "outputs": [],
   "source": [
    "query = 'I forgot my password to access'"
   ]
  },
  {
   "cell_type": "code",
   "execution_count": 8,
   "metadata": {},
   "outputs": [],
   "source": [
    "df.to_json(data_folder+'documents.json')\n",
    "# documents.json is the data from where the questions would be fetched to answer the questions required."
   ]
  },
  {
   "cell_type": "markdown",
   "metadata": {},
   "source": [
    "# building your own search engine ( minsearch_modified_ver.py )"
   ]
  },
  {
   "cell_type": "code",
   "execution_count": null,
   "metadata": {},
   "outputs": [],
   "source": []
  },
  {
   "cell_type": "code",
   "execution_count": null,
   "metadata": {},
   "outputs": [],
   "source": []
  },
  {
   "cell_type": "code",
   "execution_count": null,
   "metadata": {},
   "outputs": [],
   "source": []
  },
  {
   "cell_type": "code",
   "execution_count": null,
   "metadata": {},
   "outputs": [],
   "source": []
  },
  {
   "cell_type": "code",
   "execution_count": null,
   "metadata": {},
   "outputs": [],
   "source": []
  },
  {
   "cell_type": "code",
   "execution_count": null,
   "metadata": {},
   "outputs": [],
   "source": []
  },
  {
   "cell_type": "code",
   "execution_count": null,
   "metadata": {},
   "outputs": [],
   "source": []
  },
  {
   "cell_type": "code",
   "execution_count": null,
   "metadata": {},
   "outputs": [],
   "source": []
  },
  {
   "cell_type": "code",
   "execution_count": null,
   "metadata": {},
   "outputs": [],
   "source": []
  },
  {
   "cell_type": "code",
   "execution_count": null,
   "metadata": {},
   "outputs": [],
   "source": []
  },
  {
   "cell_type": "code",
   "execution_count": null,
   "metadata": {},
   "outputs": [],
   "source": []
  },
  {
   "cell_type": "code",
   "execution_count": null,
   "metadata": {},
   "outputs": [],
   "source": []
  },
  {
   "cell_type": "code",
   "execution_count": null,
   "metadata": {},
   "outputs": [],
   "source": []
  },
  {
   "cell_type": "code",
   "execution_count": null,
   "metadata": {},
   "outputs": [],
   "source": []
  },
  {
   "cell_type": "code",
   "execution_count": null,
   "metadata": {},
   "outputs": [],
   "source": []
  },
  {
   "cell_type": "code",
   "execution_count": null,
   "metadata": {},
   "outputs": [],
   "source": []
  },
  {
   "cell_type": "code",
   "execution_count": null,
   "metadata": {},
   "outputs": [],
   "source": []
  },
  {
   "cell_type": "code",
   "execution_count": null,
   "metadata": {},
   "outputs": [],
   "source": []
  },
  {
   "cell_type": "code",
   "execution_count": null,
   "metadata": {},
   "outputs": [],
   "source": []
  },
  {
   "cell_type": "code",
   "execution_count": null,
   "metadata": {},
   "outputs": [],
   "source": []
  },
  {
   "cell_type": "code",
   "execution_count": null,
   "metadata": {},
   "outputs": [],
   "source": []
  },
  {
   "cell_type": "code",
   "execution_count": null,
   "metadata": {},
   "outputs": [],
   "source": []
  },
  {
   "cell_type": "code",
   "execution_count": null,
   "metadata": {},
   "outputs": [],
   "source": []
  },
  {
   "cell_type": "code",
   "execution_count": null,
   "metadata": {},
   "outputs": [],
   "source": []
  },
  {
   "cell_type": "code",
   "execution_count": null,
   "metadata": {},
   "outputs": [],
   "source": []
  },
  {
   "cell_type": "code",
   "execution_count": null,
   "metadata": {},
   "outputs": [],
   "source": []
  },
  {
   "cell_type": "code",
   "execution_count": null,
   "metadata": {},
   "outputs": [],
   "source": []
  }
 ],
 "metadata": {
  "kernelspec": {
   "display_name": "ai_llm",
   "language": "python",
   "name": "ai_llm"
  },
  "language_info": {
   "codemirror_mode": {
    "name": "ipython",
    "version": 3
   },
   "file_extension": ".py",
   "mimetype": "text/x-python",
   "name": "python",
   "nbconvert_exporter": "python",
   "pygments_lexer": "ipython3",
   "version": "3.10.14"
  }
 },
 "nbformat": 4,
 "nbformat_minor": 4
}
