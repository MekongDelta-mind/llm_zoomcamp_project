{
 "cells": [
  {
   "cell_type": "code",
   "execution_count": 1,
   "metadata": {},
   "outputs": [],
   "source": [
    "import pandas as pd"
   ]
  },
  {
   "cell_type": "code",
   "execution_count": 2,
   "metadata": {},
   "outputs": [],
   "source": [
    "data_folder = \"../data/raw/\""
   ]
  },
  {
   "cell_type": "code",
   "execution_count": 3,
   "metadata": {},
   "outputs": [],
   "source": [
    "file_name = 'Rough exploration - actual_data.csv'"
   ]
  },
  {
   "cell_type": "code",
   "execution_count": 4,
   "metadata": {},
   "outputs": [
    {
     "data": {
      "text/plain": [
       "(14, 5)"
      ]
     },
     "execution_count": 4,
     "metadata": {},
     "output_type": "execute_result"
    }
   ],
   "source": [
    "df = pd.read_csv(data_folder+file_name)\n",
    "df.shape"
   ]
  },
  {
   "cell_type": "code",
   "execution_count": 5,
   "metadata": {},
   "outputs": [
    {
     "data": {
      "text/html": [
       "<div>\n",
       "<style scoped>\n",
       "    .dataframe tbody tr th:only-of-type {\n",
       "        vertical-align: middle;\n",
       "    }\n",
       "\n",
       "    .dataframe tbody tr th {\n",
       "        vertical-align: top;\n",
       "    }\n",
       "\n",
       "    .dataframe thead th {\n",
       "        text-align: right;\n",
       "    }\n",
       "</style>\n",
       "<table border=\"1\" class=\"dataframe\">\n",
       "  <thead>\n",
       "    <tr style=\"text-align: right;\">\n",
       "      <th></th>\n",
       "      <th>user_type</th>\n",
       "      <th>sub_section</th>\n",
       "      <th>sub_sub_section</th>\n",
       "      <th>question</th>\n",
       "      <th>answer</th>\n",
       "    </tr>\n",
       "  </thead>\n",
       "  <tbody>\n",
       "    <tr>\n",
       "      <th>0</th>\n",
       "      <td>buyers</td>\n",
       "      <td>top_queries</td>\n",
       "      <td>general</td>\n",
       "      <td>I forgot my password to access GeM portal, how...</td>\n",
       "      <td>Please follow following steps to reset your pa...</td>\n",
       "    </tr>\n",
       "    <tr>\n",
       "      <th>1</th>\n",
       "      <td>buyers</td>\n",
       "      <td>top_queries</td>\n",
       "      <td>general</td>\n",
       "      <td>I am a new buyer and wish to learn more about ...</td>\n",
       "      <td>Detailed instructions are available in the for...</td>\n",
       "    </tr>\n",
       "    <tr>\n",
       "      <th>2</th>\n",
       "      <td>buyers</td>\n",
       "      <td>top_queries</td>\n",
       "      <td>general</td>\n",
       "      <td>What could be the reason for variation in pric...</td>\n",
       "      <td>The variation in retail price and GeM Price of...</td>\n",
       "    </tr>\n",
       "    <tr>\n",
       "      <th>3</th>\n",
       "      <td>buyers</td>\n",
       "      <td>top_queries</td>\n",
       "      <td>general</td>\n",
       "      <td>Why am I unable to see the seller's name in th...</td>\n",
       "      <td>In order to avoid biases in the selection of s...</td>\n",
       "    </tr>\n",
       "    <tr>\n",
       "      <th>4</th>\n",
       "      <td>buyers</td>\n",
       "      <td>top_queries</td>\n",
       "      <td>general</td>\n",
       "      <td>Is PAC option available for purchase through O...</td>\n",
       "      <td>Yes, PAC purchase can be done from OEMs and Re...</td>\n",
       "    </tr>\n",
       "  </tbody>\n",
       "</table>\n",
       "</div>"
      ],
      "text/plain": [
       "  user_type  sub_section sub_sub_section  \\\n",
       "0    buyers  top_queries         general   \n",
       "1    buyers  top_queries         general   \n",
       "2    buyers  top_queries         general   \n",
       "3    buyers  top_queries         general   \n",
       "4    buyers  top_queries         general   \n",
       "\n",
       "                                            question  \\\n",
       "0  I forgot my password to access GeM portal, how...   \n",
       "1  I am a new buyer and wish to learn more about ...   \n",
       "2  What could be the reason for variation in pric...   \n",
       "3  Why am I unable to see the seller's name in th...   \n",
       "4  Is PAC option available for purchase through O...   \n",
       "\n",
       "                                              answer  \n",
       "0  Please follow following steps to reset your pa...  \n",
       "1  Detailed instructions are available in the for...  \n",
       "2  The variation in retail price and GeM Price of...  \n",
       "3  In order to avoid biases in the selection of s...  \n",
       "4  Yes, PAC purchase can be done from OEMs and Re...  "
      ]
     },
     "execution_count": 5,
     "metadata": {},
     "output_type": "execute_result"
    }
   ],
   "source": [
    "df.head()"
   ]
  },
  {
   "cell_type": "code",
   "execution_count": 6,
   "metadata": {},
   "outputs": [
    {
     "data": {
      "text/html": [
       "<div>\n",
       "<style scoped>\n",
       "    .dataframe tbody tr th:only-of-type {\n",
       "        vertical-align: middle;\n",
       "    }\n",
       "\n",
       "    .dataframe tbody tr th {\n",
       "        vertical-align: top;\n",
       "    }\n",
       "\n",
       "    .dataframe thead th {\n",
       "        text-align: right;\n",
       "    }\n",
       "</style>\n",
       "<table border=\"1\" class=\"dataframe\">\n",
       "  <thead>\n",
       "    <tr style=\"text-align: right;\">\n",
       "      <th></th>\n",
       "      <th>0</th>\n",
       "      <th>1</th>\n",
       "      <th>2</th>\n",
       "      <th>3</th>\n",
       "      <th>4</th>\n",
       "    </tr>\n",
       "  </thead>\n",
       "  <tbody>\n",
       "    <tr>\n",
       "      <th>user_type</th>\n",
       "      <td>buyers</td>\n",
       "      <td>buyers</td>\n",
       "      <td>buyers</td>\n",
       "      <td>buyers</td>\n",
       "      <td>buyers</td>\n",
       "    </tr>\n",
       "    <tr>\n",
       "      <th>sub_section</th>\n",
       "      <td>top_queries</td>\n",
       "      <td>top_queries</td>\n",
       "      <td>top_queries</td>\n",
       "      <td>top_queries</td>\n",
       "      <td>top_queries</td>\n",
       "    </tr>\n",
       "    <tr>\n",
       "      <th>sub_sub_section</th>\n",
       "      <td>general</td>\n",
       "      <td>general</td>\n",
       "      <td>general</td>\n",
       "      <td>general</td>\n",
       "      <td>general</td>\n",
       "    </tr>\n",
       "    <tr>\n",
       "      <th>question</th>\n",
       "      <td>I forgot my password to access GeM portal, how...</td>\n",
       "      <td>I am a new buyer and wish to learn more about ...</td>\n",
       "      <td>What could be the reason for variation in pric...</td>\n",
       "      <td>Why am I unable to see the seller's name in th...</td>\n",
       "      <td>Is PAC option available for purchase through O...</td>\n",
       "    </tr>\n",
       "    <tr>\n",
       "      <th>answer</th>\n",
       "      <td>Please follow following steps to reset your pa...</td>\n",
       "      <td>Detailed instructions are available in the for...</td>\n",
       "      <td>The variation in retail price and GeM Price of...</td>\n",
       "      <td>In order to avoid biases in the selection of s...</td>\n",
       "      <td>Yes, PAC purchase can be done from OEMs and Re...</td>\n",
       "    </tr>\n",
       "  </tbody>\n",
       "</table>\n",
       "</div>"
      ],
      "text/plain": [
       "                                                                 0  \\\n",
       "user_type                                                   buyers   \n",
       "sub_section                                            top_queries   \n",
       "sub_sub_section                                            general   \n",
       "question         I forgot my password to access GeM portal, how...   \n",
       "answer           Please follow following steps to reset your pa...   \n",
       "\n",
       "                                                                 1  \\\n",
       "user_type                                                   buyers   \n",
       "sub_section                                            top_queries   \n",
       "sub_sub_section                                            general   \n",
       "question         I am a new buyer and wish to learn more about ...   \n",
       "answer           Detailed instructions are available in the for...   \n",
       "\n",
       "                                                                 2  \\\n",
       "user_type                                                   buyers   \n",
       "sub_section                                            top_queries   \n",
       "sub_sub_section                                            general   \n",
       "question         What could be the reason for variation in pric...   \n",
       "answer           The variation in retail price and GeM Price of...   \n",
       "\n",
       "                                                                 3  \\\n",
       "user_type                                                   buyers   \n",
       "sub_section                                            top_queries   \n",
       "sub_sub_section                                            general   \n",
       "question         Why am I unable to see the seller's name in th...   \n",
       "answer           In order to avoid biases in the selection of s...   \n",
       "\n",
       "                                                                 4  \n",
       "user_type                                                   buyers  \n",
       "sub_section                                            top_queries  \n",
       "sub_sub_section                                            general  \n",
       "question         Is PAC option available for purchase through O...  \n",
       "answer           Yes, PAC purchase can be done from OEMs and Re...  "
      ]
     },
     "execution_count": 6,
     "metadata": {},
     "output_type": "execute_result"
    }
   ],
   "source": [
    "df.head().T"
   ]
  },
  {
   "cell_type": "code",
   "execution_count": 7,
   "metadata": {},
   "outputs": [],
   "source": [
    "query = 'I forgot my password to access'"
   ]
  },
  {
   "cell_type": "code",
   "execution_count": 8,
   "metadata": {},
   "outputs": [],
   "source": [
    "documents = df.to_dict(orient='records')"
   ]
  },
  {
   "cell_type": "code",
   "execution_count": 9,
   "metadata": {},
   "outputs": [],
   "source": [
    "import json"
   ]
  },
  {
   "cell_type": "code",
   "execution_count": 10,
   "metadata": {},
   "outputs": [],
   "source": [
    "# documents.json is the data from where the questions would be fetched to answer the questions required.\n",
    "with open(data_folder+'documents.json', 'wt') as f_out:\n",
    "    json.dump(documents, f_out, indent=2)"
   ]
  },
  {
   "cell_type": "markdown",
   "metadata": {},
   "source": [
    "# building your own search engine ( minsearch_modified_ver.py )"
   ]
  },
  {
   "cell_type": "markdown",
   "metadata": {},
   "source": [
    "You don't need to go through the whole video. \n",
    "* But you definitely need to modify the code fo your purpose\n",
    "\n",
    "The link to the [repo](https://github.com/alexeygrigorev/build-your-own-search-engine/tree/main)"
   ]
  },
  {
   "cell_type": "code",
   "execution_count": 11,
   "metadata": {},
   "outputs": [
    {
     "data": {
      "text/plain": [
       "<Response [200]>"
      ]
     },
     "execution_count": 11,
     "metadata": {},
     "output_type": "execute_result"
    }
   ],
   "source": [
    "import requests \n",
    "\n",
    "docs_url = 'https://raw.githubusercontent.com/MekongDelta-mind/llm_zoomcamp_project/main/data/raw/documents.json'\n",
    "docs_response = requests.get(docs_url)\n",
    "\n",
    "docs_response"
   ]
  },
  {
   "cell_type": "code",
   "execution_count": 12,
   "metadata": {},
   "outputs": [
    {
     "data": {
      "text/plain": [
       "b'[\\n  {\\n    \"user_type\": \"buyers\",\\n    \"sub_section\": \"top_queries\",\\n    \"sub_sub_section\": \"general\",\\n    \"question\": \"I forgot my password to access GeM portal, how can I reset it?\",\\n    \"answer\": \"Please follow following steps to reset your password on GeM portal:\\\\n1. Kindly visit https://gem.gov.in/ and click on Login,\\\\n2. Click on \\\\\"Forgot your Password\\\\\" link,\\\\n3. Enter your User Id, kindly note that User Id is case sensitive,\\\\n4. Type the Characters displayed in the captcha box, press SUBMIT,\\\\n5. An E-mail will be sent to your registered E-mail ID with link to Reset password,\\\\n6. Click on Reset Link in your E-mail, and Enter new password and confirm the same, Press SUBMIT.\\\\nKindly note that your Password must be of 8-20 characters- 1 upper case letter, 1 lower case letter, number, and a special character. \"\\n  },\\n  {\\n    \"user_type\": \"buyers\",\\n    \"sub_section\": \"top_queries\",\\n    \"sub_sub_section\": \"general\",\\n    \"question\": \"I am a new buyer and wish to learn more about procurement process on GeM?\",\\n    \"answer\": \"Detailed instructions are available in the form of Video Guides on GeM portal. Kindly refer to different aspects of buyer process on Buyer Videos . \"\\n  },\\n  {\\n    \"user_type\": \"buyers\",\\n    \"sub_section\": \"top_queries\",\\n    \"sub_sub_section\": \"general\",\\n    \"question\": \"What could be the reason for variation in prices between GeM and other Marketplaces ? \",\\n    \"answer\": \"The variation in retail price and GeM Price of a product could be due to under mentioned factors.\\\\n1. The price offering on GeM are inclusive of all taxes.\\\\n2. Product on GeM may have a different warranty period.\\\\n3. Onsite warranty is offered for some products on GeM.\\\\n4. Prices could also vary due to Payment Terms of the transaction. \"\\n  },\\n  {\\n    \"user_type\": \"buyers\",\\n    \"sub_section\": \"top_queries\",\\n    \"sub_sub_section\": \"general\",\\n    \"question\": \"Why am I unable to see the seller\\'s name in the market, while searching for a product on GeM?\",\\n    \"answer\": \"In order to avoid biases in the selection of seller, for a particular purchase, the seller\\'s name is no longer disclosed on GeM until the Buyer makes a purchase decision. \"\\n  },\\n  {\\n    \"user_type\": \"buyers\",\\n    \"sub_section\": \"top_queries\",\\n    \"sub_sub_section\": \"general\",\\n    \"question\": \"Is PAC option available for purchase through OEMs only or Resellers can also participate? \",\\n    \"answer\": \"Yes, PAC purchase can be done from OEMs and Resellers both. \"\\n  },\\n  {\\n    \"user_type\": \"buyers\",\\n    \"sub_section\": \"top_queries\",\\n    \"sub_sub_section\": \"general\",\\n    \"question\": \"What are the minimum delivery days during direct purchase? \",\\n    \"answer\": \"The minimum and maximum number of delivery day(s) may vary, specific to the product and service category. \"\\n  },\\n  {\\n    \"user_type\": \"buyers\",\\n    \"sub_section\": \"top_queries\",\\n    \"sub_sub_section\": \"general\",\\n    \"question\": \"What is concession on GST? \",\\n    \"answer\": \"Certain Buyer organizations are eligible for concession on GST if goods for which bids have been invited fall under classification of GST concession and the conditions for eligibility of concession are met by the institution. \"\\n  },\\n  {\\n    \"user_type\": \"buyers\",\\n    \"sub_section\": \"top_queries\",\\n    \"sub_sub_section\": \"general\",\\n    \"question\": \"Why the Buyer is asked to choose between Direct Purchase or Bid/RA when \\'Add to Cart\\' button is clicked? \",\\n    \"answer\": \"This option is given to Buyers to understand their Intent of Buying so that Buyers can select and verify values for Golden Parameters to create Bid as per the specific requirement for procurement. For more info, please click on the document link .\"\\n  },\\n  {\\n    \"user_type\": \"buyers\",\\n    \"sub_section\": \"top_queries\",\\n    \"sub_sub_section\": \"general\",\\n    \"question\": \"When would the Buyer claim concession on GST? \",\\n    \"answer\": \"The Buyer would specify the concessional rate of GST while publishing the Bid. The concessional rate of GST, the relevant govt notification number and date would be mentioned in Bid Terms and conditions. \"\\n  },\\n  {\\n    \"user_type\": \"buyers\",\\n    \"sub_section\": \"top_queries\",\\n    \"sub_sub_section\": \"general\",\\n    \"question\": \"\\\\nWhere can a buyer find the innovative Startup products/services? \",\\n    \"answer\": \"Buyers can view the list of shortlisted innovative products/services on Startup Runway corner and can request the same for Trial. \"\\n  },\\n  {\\n    \"user_type\": \"buyers\",\\n    \"sub_section\": \"top_queries\",\\n    \"sub_sub_section\": \"general\",\\n    \"question\": \"What\\'s the grievance redressal mechanism on GeM? \",\\n    \"answer\": \"In case of any grievance related to deviation / concern related to sellers, buyer can raise an Incident. Kindly refer to \\\\\"Incident\\\\\" tab under FAQ for more details. \"\\n  },\\n  {\\n    \"user_type\": \"buyers\",\\n    \"sub_section\": \"top_queries\",\\n    \"sub_sub_section\": \"general\",\\n    \"question\": \"How can I request for Change in specification of existing category? \",\\n    \"answer\": \"Buyers can request for changes in existing category from Request Management available in their Dashboard. All such requests would be evaluated by GeM. \"\\n  },\\n  {\\n    \"user_type\": \"buyers\",\\n    \"sub_section\": \"top_queries\",\\n    \"sub_sub_section\": \"general\",\\n    \"question\": \"How can I request for new category addition ? \",\\n    \"answer\": \"Buyers can request for new category addition online from Request Management available in their Dashboard. All such requests would be evaluated by GeM.\"\\n  },\\n  {\\n    \"user_type\": \"buyers\",\\n    \"sub_section\": \"top_queries\",\\n    \"sub_sub_section\": \"general\",\\n    \"question\": \"How can I update the Annual Procurement Plan of my Organization or department on GeM? \",\\n    \"answer\": \"The Buyers can upload the Annual Procurement Plan online through the Request Management available on their Dashboard. GeM would evaluate and consolidate the procurement plans received from the Buyers to create a forecast of the products/services required on GeM. \"\\n  }\\n]'"
      ]
     },
     "execution_count": 12,
     "metadata": {},
     "output_type": "execute_result"
    }
   ],
   "source": [
    "docs_response.content"
   ]
  },
  {
   "cell_type": "code",
   "execution_count": 13,
   "metadata": {},
   "outputs": [],
   "source": [
    "documents_raw = docs_response.json()"
   ]
  },
  {
   "cell_type": "code",
   "execution_count": 14,
   "metadata": {
    "scrolled": true
   },
   "outputs": [
    {
     "data": {
      "text/plain": [
       "(<Response [200]>,\n",
       " [{'user_type': 'buyers',\n",
       "   'sub_section': 'top_queries',\n",
       "   'sub_sub_section': 'general',\n",
       "   'question': 'I forgot my password to access GeM portal, how can I reset it?',\n",
       "   'answer': 'Please follow following steps to reset your password on GeM portal:\\n1. Kindly visit https://gem.gov.in/ and click on Login,\\n2. Click on \"Forgot your Password\" link,\\n3. Enter your User Id, kindly note that User Id is case sensitive,\\n4. Type the Characters displayed in the captcha box, press SUBMIT,\\n5. An E-mail will be sent to your registered E-mail ID with link to Reset password,\\n6. Click on Reset Link in your E-mail, and Enter new password and confirm the same, Press SUBMIT.\\nKindly note that your Password must be of 8-20 characters- 1 upper case letter, 1 lower case letter, number, and a special character. '},\n",
       "  {'user_type': 'buyers',\n",
       "   'sub_section': 'top_queries',\n",
       "   'sub_sub_section': 'general',\n",
       "   'question': 'I am a new buyer and wish to learn more about procurement process on GeM?',\n",
       "   'answer': 'Detailed instructions are available in the form of Video Guides on GeM portal. Kindly refer to different aspects of buyer process on Buyer Videos . '},\n",
       "  {'user_type': 'buyers',\n",
       "   'sub_section': 'top_queries',\n",
       "   'sub_sub_section': 'general',\n",
       "   'question': 'What could be the reason for variation in prices between GeM and other Marketplaces ? ',\n",
       "   'answer': 'The variation in retail price and GeM Price of a product could be due to under mentioned factors.\\n1. The price offering on GeM are inclusive of all taxes.\\n2. Product on GeM may have a different warranty period.\\n3. Onsite warranty is offered for some products on GeM.\\n4. Prices could also vary due to Payment Terms of the transaction. '},\n",
       "  {'user_type': 'buyers',\n",
       "   'sub_section': 'top_queries',\n",
       "   'sub_sub_section': 'general',\n",
       "   'question': \"Why am I unable to see the seller's name in the market, while searching for a product on GeM?\",\n",
       "   'answer': \"In order to avoid biases in the selection of seller, for a particular purchase, the seller's name is no longer disclosed on GeM until the Buyer makes a purchase decision. \"},\n",
       "  {'user_type': 'buyers',\n",
       "   'sub_section': 'top_queries',\n",
       "   'sub_sub_section': 'general',\n",
       "   'question': 'Is PAC option available for purchase through OEMs only or Resellers can also participate? ',\n",
       "   'answer': 'Yes, PAC purchase can be done from OEMs and Resellers both. '},\n",
       "  {'user_type': 'buyers',\n",
       "   'sub_section': 'top_queries',\n",
       "   'sub_sub_section': 'general',\n",
       "   'question': 'What are the minimum delivery days during direct purchase? ',\n",
       "   'answer': 'The minimum and maximum number of delivery day(s) may vary, specific to the product and service category. '},\n",
       "  {'user_type': 'buyers',\n",
       "   'sub_section': 'top_queries',\n",
       "   'sub_sub_section': 'general',\n",
       "   'question': 'What is concession on GST? ',\n",
       "   'answer': 'Certain Buyer organizations are eligible for concession on GST if goods for which bids have been invited fall under classification of GST concession and the conditions for eligibility of concession are met by the institution. '},\n",
       "  {'user_type': 'buyers',\n",
       "   'sub_section': 'top_queries',\n",
       "   'sub_sub_section': 'general',\n",
       "   'question': \"Why the Buyer is asked to choose between Direct Purchase or Bid/RA when 'Add to Cart' button is clicked? \",\n",
       "   'answer': 'This option is given to Buyers to understand their Intent of Buying so that Buyers can select and verify values for Golden Parameters to create Bid as per the specific requirement for procurement. For more info, please click on the document link .'},\n",
       "  {'user_type': 'buyers',\n",
       "   'sub_section': 'top_queries',\n",
       "   'sub_sub_section': 'general',\n",
       "   'question': 'When would the Buyer claim concession on GST? ',\n",
       "   'answer': 'The Buyer would specify the concessional rate of GST while publishing the Bid. The concessional rate of GST, the relevant govt notification number and date would be mentioned in Bid Terms and conditions. '},\n",
       "  {'user_type': 'buyers',\n",
       "   'sub_section': 'top_queries',\n",
       "   'sub_sub_section': 'general',\n",
       "   'question': '\\nWhere can a buyer find the innovative Startup products/services? ',\n",
       "   'answer': 'Buyers can view the list of shortlisted innovative products/services on Startup Runway corner and can request the same for Trial. '},\n",
       "  {'user_type': 'buyers',\n",
       "   'sub_section': 'top_queries',\n",
       "   'sub_sub_section': 'general',\n",
       "   'question': \"What's the grievance redressal mechanism on GeM? \",\n",
       "   'answer': 'In case of any grievance related to deviation / concern related to sellers, buyer can raise an Incident. Kindly refer to \"Incident\" tab under FAQ for more details. '},\n",
       "  {'user_type': 'buyers',\n",
       "   'sub_section': 'top_queries',\n",
       "   'sub_sub_section': 'general',\n",
       "   'question': 'How can I request for Change in specification of existing category? ',\n",
       "   'answer': 'Buyers can request for changes in existing category from Request Management available in their Dashboard. All such requests would be evaluated by GeM. '},\n",
       "  {'user_type': 'buyers',\n",
       "   'sub_section': 'top_queries',\n",
       "   'sub_sub_section': 'general',\n",
       "   'question': 'How can I request for new category addition ? ',\n",
       "   'answer': 'Buyers can request for new category addition online from Request Management available in their Dashboard. All such requests would be evaluated by GeM.'},\n",
       "  {'user_type': 'buyers',\n",
       "   'sub_section': 'top_queries',\n",
       "   'sub_sub_section': 'general',\n",
       "   'question': 'How can I update the Annual Procurement Plan of my Organization or department on GeM? ',\n",
       "   'answer': 'The Buyers can upload the Annual Procurement Plan online through the Request Management available on their Dashboard. GeM would evaluate and consolidate the procurement plans received from the Buyers to create a forecast of the products/services required on GeM. '}])"
      ]
     },
     "execution_count": 14,
     "metadata": {},
     "output_type": "execute_result"
    }
   ],
   "source": [
    "docs_response, documents_raw"
   ]
  },
  {
   "cell_type": "code",
   "execution_count": 15,
   "metadata": {},
   "outputs": [
    {
     "data": {
      "text/html": [
       "<div>\n",
       "<style scoped>\n",
       "    .dataframe tbody tr th:only-of-type {\n",
       "        vertical-align: middle;\n",
       "    }\n",
       "\n",
       "    .dataframe tbody tr th {\n",
       "        vertical-align: top;\n",
       "    }\n",
       "\n",
       "    .dataframe thead th {\n",
       "        text-align: right;\n",
       "    }\n",
       "</style>\n",
       "<table border=\"1\" class=\"dataframe\">\n",
       "  <thead>\n",
       "    <tr style=\"text-align: right;\">\n",
       "      <th></th>\n",
       "      <th>user_type</th>\n",
       "      <th>sub_section</th>\n",
       "      <th>sub_sub_section</th>\n",
       "      <th>question</th>\n",
       "      <th>answer</th>\n",
       "    </tr>\n",
       "  </thead>\n",
       "  <tbody>\n",
       "    <tr>\n",
       "      <th>0</th>\n",
       "      <td>buyers</td>\n",
       "      <td>top_queries</td>\n",
       "      <td>general</td>\n",
       "      <td>I forgot my password to access GeM portal, how...</td>\n",
       "      <td>Please follow following steps to reset your pa...</td>\n",
       "    </tr>\n",
       "    <tr>\n",
       "      <th>1</th>\n",
       "      <td>buyers</td>\n",
       "      <td>top_queries</td>\n",
       "      <td>general</td>\n",
       "      <td>I am a new buyer and wish to learn more about ...</td>\n",
       "      <td>Detailed instructions are available in the for...</td>\n",
       "    </tr>\n",
       "    <tr>\n",
       "      <th>2</th>\n",
       "      <td>buyers</td>\n",
       "      <td>top_queries</td>\n",
       "      <td>general</td>\n",
       "      <td>What could be the reason for variation in pric...</td>\n",
       "      <td>The variation in retail price and GeM Price of...</td>\n",
       "    </tr>\n",
       "    <tr>\n",
       "      <th>3</th>\n",
       "      <td>buyers</td>\n",
       "      <td>top_queries</td>\n",
       "      <td>general</td>\n",
       "      <td>Why am I unable to see the seller's name in th...</td>\n",
       "      <td>In order to avoid biases in the selection of s...</td>\n",
       "    </tr>\n",
       "    <tr>\n",
       "      <th>4</th>\n",
       "      <td>buyers</td>\n",
       "      <td>top_queries</td>\n",
       "      <td>general</td>\n",
       "      <td>Is PAC option available for purchase through O...</td>\n",
       "      <td>Yes, PAC purchase can be done from OEMs and Re...</td>\n",
       "    </tr>\n",
       "  </tbody>\n",
       "</table>\n",
       "</div>"
      ],
      "text/plain": [
       "  user_type  sub_section sub_sub_section  \\\n",
       "0    buyers  top_queries         general   \n",
       "1    buyers  top_queries         general   \n",
       "2    buyers  top_queries         general   \n",
       "3    buyers  top_queries         general   \n",
       "4    buyers  top_queries         general   \n",
       "\n",
       "                                            question  \\\n",
       "0  I forgot my password to access GeM portal, how...   \n",
       "1  I am a new buyer and wish to learn more about ...   \n",
       "2  What could be the reason for variation in pric...   \n",
       "3  Why am I unable to see the seller's name in th...   \n",
       "4  Is PAC option available for purchase through O...   \n",
       "\n",
       "                                              answer  \n",
       "0  Please follow following steps to reset your pa...  \n",
       "1  Detailed instructions are available in the for...  \n",
       "2  The variation in retail price and GeM Price of...  \n",
       "3  In order to avoid biases in the selection of s...  \n",
       "4  Yes, PAC purchase can be done from OEMs and Re...  "
      ]
     },
     "execution_count": 15,
     "metadata": {},
     "output_type": "execute_result"
    }
   ],
   "source": [
    "df = pd.DataFrame(documents, columns=['user_type', 'sub_section', 'sub_sub_section','question', 'answer'])\n",
    "df.head()"
   ]
  },
  {
   "cell_type": "code",
   "execution_count": 16,
   "metadata": {},
   "outputs": [
    {
     "data": {
      "text/html": [
       "<div>\n",
       "<style scoped>\n",
       "    .dataframe tbody tr th:only-of-type {\n",
       "        vertical-align: middle;\n",
       "    }\n",
       "\n",
       "    .dataframe tbody tr th {\n",
       "        vertical-align: top;\n",
       "    }\n",
       "\n",
       "    .dataframe thead th {\n",
       "        text-align: right;\n",
       "    }\n",
       "</style>\n",
       "<table border=\"1\" class=\"dataframe\">\n",
       "  <thead>\n",
       "    <tr style=\"text-align: right;\">\n",
       "      <th></th>\n",
       "      <th>user_type</th>\n",
       "      <th>sub_section</th>\n",
       "      <th>sub_sub_section</th>\n",
       "      <th>question</th>\n",
       "      <th>answer</th>\n",
       "    </tr>\n",
       "  </thead>\n",
       "  <tbody>\n",
       "    <tr>\n",
       "      <th>0</th>\n",
       "      <td>buyers</td>\n",
       "      <td>top_queries</td>\n",
       "      <td>general</td>\n",
       "      <td>I forgot my password to access GeM portal, how...</td>\n",
       "      <td>Please follow following steps to reset your pa...</td>\n",
       "    </tr>\n",
       "    <tr>\n",
       "      <th>1</th>\n",
       "      <td>buyers</td>\n",
       "      <td>top_queries</td>\n",
       "      <td>general</td>\n",
       "      <td>I am a new buyer and wish to learn more about ...</td>\n",
       "      <td>Detailed instructions are available in the for...</td>\n",
       "    </tr>\n",
       "    <tr>\n",
       "      <th>2</th>\n",
       "      <td>buyers</td>\n",
       "      <td>top_queries</td>\n",
       "      <td>general</td>\n",
       "      <td>What could be the reason for variation in pric...</td>\n",
       "      <td>The variation in retail price and GeM Price of...</td>\n",
       "    </tr>\n",
       "    <tr>\n",
       "      <th>3</th>\n",
       "      <td>buyers</td>\n",
       "      <td>top_queries</td>\n",
       "      <td>general</td>\n",
       "      <td>Why am I unable to see the seller's name in th...</td>\n",
       "      <td>In order to avoid biases in the selection of s...</td>\n",
       "    </tr>\n",
       "    <tr>\n",
       "      <th>4</th>\n",
       "      <td>buyers</td>\n",
       "      <td>top_queries</td>\n",
       "      <td>general</td>\n",
       "      <td>Is PAC option available for purchase through O...</td>\n",
       "      <td>Yes, PAC purchase can be done from OEMs and Re...</td>\n",
       "    </tr>\n",
       "  </tbody>\n",
       "</table>\n",
       "</div>"
      ],
      "text/plain": [
       "  user_type  sub_section sub_sub_section  \\\n",
       "0    buyers  top_queries         general   \n",
       "1    buyers  top_queries         general   \n",
       "2    buyers  top_queries         general   \n",
       "3    buyers  top_queries         general   \n",
       "4    buyers  top_queries         general   \n",
       "\n",
       "                                            question  \\\n",
       "0  I forgot my password to access GeM portal, how...   \n",
       "1  I am a new buyer and wish to learn more about ...   \n",
       "2  What could be the reason for variation in pric...   \n",
       "3  Why am I unable to see the seller's name in th...   \n",
       "4  Is PAC option available for purchase through O...   \n",
       "\n",
       "                                              answer  \n",
       "0  Please follow following steps to reset your pa...  \n",
       "1  Detailed instructions are available in the for...  \n",
       "2  The variation in retail price and GeM Price of...  \n",
       "3  In order to avoid biases in the selection of s...  \n",
       "4  Yes, PAC purchase can be done from OEMs and Re...  "
      ]
     },
     "execution_count": 16,
     "metadata": {},
     "output_type": "execute_result"
    }
   ],
   "source": [
    "df[(df.user_type == 'buyers') & (df.sub_section == 'top_queries' )].head()"
   ]
  },
  {
   "cell_type": "code",
   "execution_count": null,
   "metadata": {},
   "outputs": [],
   "source": []
  },
  {
   "cell_type": "code",
   "execution_count": null,
   "metadata": {},
   "outputs": [],
   "source": []
  },
  {
   "cell_type": "code",
   "execution_count": null,
   "metadata": {},
   "outputs": [],
   "source": []
  },
  {
   "cell_type": "code",
   "execution_count": null,
   "metadata": {},
   "outputs": [],
   "source": []
  },
  {
   "cell_type": "code",
   "execution_count": null,
   "metadata": {},
   "outputs": [],
   "source": []
  },
  {
   "cell_type": "code",
   "execution_count": null,
   "metadata": {},
   "outputs": [],
   "source": []
  },
  {
   "cell_type": "code",
   "execution_count": null,
   "metadata": {},
   "outputs": [],
   "source": []
  },
  {
   "cell_type": "code",
   "execution_count": null,
   "metadata": {},
   "outputs": [],
   "source": []
  },
  {
   "cell_type": "code",
   "execution_count": null,
   "metadata": {},
   "outputs": [],
   "source": []
  },
  {
   "cell_type": "code",
   "execution_count": null,
   "metadata": {},
   "outputs": [],
   "source": []
  },
  {
   "cell_type": "code",
   "execution_count": null,
   "metadata": {},
   "outputs": [],
   "source": []
  },
  {
   "cell_type": "code",
   "execution_count": null,
   "metadata": {},
   "outputs": [],
   "source": []
  },
  {
   "cell_type": "code",
   "execution_count": null,
   "metadata": {},
   "outputs": [],
   "source": []
  },
  {
   "cell_type": "code",
   "execution_count": null,
   "metadata": {},
   "outputs": [],
   "source": []
  },
  {
   "cell_type": "code",
   "execution_count": null,
   "metadata": {},
   "outputs": [],
   "source": []
  },
  {
   "cell_type": "code",
   "execution_count": null,
   "metadata": {},
   "outputs": [],
   "source": []
  },
  {
   "cell_type": "code",
   "execution_count": null,
   "metadata": {},
   "outputs": [],
   "source": []
  },
  {
   "cell_type": "code",
   "execution_count": null,
   "metadata": {},
   "outputs": [],
   "source": []
  },
  {
   "cell_type": "code",
   "execution_count": null,
   "metadata": {},
   "outputs": [],
   "source": []
  },
  {
   "cell_type": "code",
   "execution_count": null,
   "metadata": {},
   "outputs": [],
   "source": []
  },
  {
   "cell_type": "code",
   "execution_count": null,
   "metadata": {},
   "outputs": [],
   "source": []
  },
  {
   "cell_type": "code",
   "execution_count": null,
   "metadata": {},
   "outputs": [],
   "source": []
  },
  {
   "cell_type": "code",
   "execution_count": null,
   "metadata": {},
   "outputs": [],
   "source": []
  },
  {
   "cell_type": "code",
   "execution_count": null,
   "metadata": {},
   "outputs": [],
   "source": []
  }
 ],
 "metadata": {
  "kernelspec": {
   "display_name": "ai_llm",
   "language": "python",
   "name": "ai_llm"
  },
  "language_info": {
   "codemirror_mode": {
    "name": "ipython",
    "version": 3
   },
   "file_extension": ".py",
   "mimetype": "text/x-python",
   "name": "python",
   "nbconvert_exporter": "python",
   "pygments_lexer": "ipython3",
   "version": "3.10.14"
  }
 },
 "nbformat": 4,
 "nbformat_minor": 4
}
