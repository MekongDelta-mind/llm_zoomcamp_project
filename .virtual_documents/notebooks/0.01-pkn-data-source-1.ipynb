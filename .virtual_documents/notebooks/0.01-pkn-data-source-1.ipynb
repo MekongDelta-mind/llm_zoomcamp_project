import pandas as pd


data_folder = "../data/raw/"


file_name = 'Rough exploration - actual_data.csv'


df = pd.read_csv(data_folder+file_name)
df.shape


df.head()


df.head().T


query = 'I forgot my password to access'


df.to_json(data_folder+'documents.json')
# documents.json is the data from where the questions would be fetched to answer the questions required.




















































































