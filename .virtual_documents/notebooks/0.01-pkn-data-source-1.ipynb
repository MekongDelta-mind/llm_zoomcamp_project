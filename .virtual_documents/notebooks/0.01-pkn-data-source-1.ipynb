import pandas as pd


data_folder = "../data/raw/"


file_name = 'Rough exploration - actual_data.csv'


df = pd.read_csv(data_folder+file_name)
df.shape


df.head()


df.head().T


query = 'I forgot my password to access'


documents = df.to_dict(orient='records')


import json


# documents.json is the data from where the questions would be fetched to answer the questions required.
with open(data_folder+'documents.json', 'wt') as f_out:
    json.dump(documents, f_out, indent=2)





import requests 

docs_url = 'https://raw.githubusercontent.com/MekongDelta-mind/llm_zoomcamp_project/main/data/raw/documents.json'
docs_response = requests.get(docs_url)

docs_response


docs_response.content


documents_raw = docs_response.json()


docs_response, documents_raw


'''Because the json is different format from the  format used in the course. This 
'''
# documents = []

# for course in documents_raw:
#     course_name = course['course']

#     for doc in course['documents']:
#         doc['course'] = course_name
#         documents.append(doc)











































































